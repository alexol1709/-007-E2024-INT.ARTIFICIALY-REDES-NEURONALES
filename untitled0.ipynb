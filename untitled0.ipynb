{
  "nbformat": 4,
  "nbformat_minor": 0,
  "metadata": {
    "colab": {
      "provenance": [],
      "authorship_tag": "ABX9TyMZ04H0wm4QGcbL3ro/PeA7",
      "include_colab_link": true
    },
    "kernelspec": {
      "name": "python3",
      "display_name": "Python 3"
    },
    "language_info": {
      "name": "python"
    }
  },
  "cells": [
    {
      "cell_type": "markdown",
      "metadata": {
        "id": "view-in-github",
        "colab_type": "text"
      },
      "source": [
        "<a href=\"https://colab.research.google.com/github/alexol1709/-007-E2024-INT.ARTIFICIALY-REDES-NEURONALES/blob/main/untitled0.ipynb\" target=\"_parent\"><img src=\"https://colab.research.google.com/assets/colab-badge.svg\" alt=\"Open In Colab\"/></a>"
      ]
    },
    {
      "cell_type": "markdown",
      "source": [
        "Actividad 2:Diseño de algoritmos en Python\n",
        "Aadddsw"
      ],
      "metadata": {
        "id": "B6zXRLBxM0g6"
      }
    },
    {
      "cell_type": "code",
      "execution_count": null,
      "metadata": {
        "id": "eWH2PXWFBfdm"
      },
      "outputs": [],
      "source": [
        "# Solicitar al usuario que ingrese su nombre\n",
        "nombre = input(\"Ingrese su nombre: \")\n",
        "# Verificar si el nombre está en la lista de excluidos\n",
        "if nombre.lower() in [\"ana\", \"juan\", \"pedro\"]:\n",
        "   print(\"Lo siento, no se acepta ese nombre.\")\n",
        "else:\n",
        "   print(f\"Bienvenido/a, {nombre}!\")"
      ]
    },
    {
      "cell_type": "code",
      "source": [],
      "metadata": {
        "id": "PqH3ORrXE6KQ"
      },
      "execution_count": null,
      "outputs": []
    }
  ]
}